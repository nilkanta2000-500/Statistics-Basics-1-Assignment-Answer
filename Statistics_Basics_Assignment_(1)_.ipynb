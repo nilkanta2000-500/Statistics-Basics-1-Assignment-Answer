{
  "nbformat": 4,
  "nbformat_minor": 0,
  "metadata": {
    "colab": {
      "provenance": []
    },
    "kernelspec": {
      "name": "python3",
      "display_name": "Python 3"
    },
    "language_info": {
      "name": "python"
    }
  },
  "cells": [
    {
      "cell_type": "markdown",
      "source": [
        "#**Statistics Basics Assignment (Theory Questions & Answers ):**\n",
        "\n",
        "\n",
        "\n",
        "1.**What is statistics, and why is it important?**\n",
        "\n",
        "Ans: Statistics is the science of collecting, analyzing, interpreting, and presenting data. It is important because it helps in making informed decisions based on data.\n",
        "\n",
        "2.**What are the two main types of statistics?**\n",
        "\n",
        "Ans: Descriptive statistics and inferential statistics.\n",
        "\n",
        "3.**What are descriptive statistics?**\n",
        "\n",
        "Ans: Descriptive statistics summarize and describe the main features of a dataset through measures such as mean, median, mode, and standard deviation.\n",
        "\n",
        "4.**What is inferential statistics?**\n",
        "\n",
        "Ans: Inferential statistics involve making predictions or inferences about a population based on a sample of data.\n",
        "\n",
        "5.**What is sampling in statistics?**\n",
        "\n",
        "Ans: Sampling is the process of selecting a subset of individuals from a population to estimate characteristics of the whole population.\n",
        "\n",
        "6.**What are the different types of sampling methods?**\n",
        "\n",
        "Ans: Random sampling, stratified sampling, cluster sampling, systematic sampling, and convenience sampling.\n",
        "\n",
        "7.**What is the difference between random and non-random sampling?**\n",
        "\n",
        "Ans: Random sampling gives each member an equal chance of selection; non-random sampling does not.\n",
        "\n",
        "8.**Define and give examples of qualitative and quantitative data.**\n",
        "\n",
        "Ans: Qualitative data describes qualities (e.g., colors, names). Quantitative data represents numbers (e.g., height, age).\n",
        "\n",
        "9.**What are the different types of data in statistics?**\n",
        "\n",
        "Ans: Nominal, ordinal, interval, and ratio.\n",
        "\n",
        "10.**Explain nominal, ordinal, interval, and ratio levels of measurement.**\n",
        "\n",
        "Ans: Nominal: categories; Ordinal: ordered categories; Interval: numeric scales without true zero; Ratio: numeric scales with true zero.\n",
        "\n",
        "11.**What is the measure of central tendency?**\n",
        "\n",
        "Ans: It is a single value that represents the center of a dataset (mean, median, mode).\n",
        "\n",
        "12.**Define mean, median, and mode.**\n",
        "\n",
        "Ans: Mean: average; Median: middle value; Mode: most frequent value.\n",
        "\n",
        "13.**What is the significance of the measure of central tendency?**\n",
        "\n",
        "Ans: It helps in understanding the general trend of the data.\n",
        "\n",
        "14.**What is variance, and how is it calculated?**\n",
        "\n",
        "Ans: Variance measures the dispersion of data points from the mean. It's calculated as the average of squared differences from the mean.\n",
        "\n",
        "15.**What is standard deviation, and why is it important?**\n",
        "\n",
        "Ans: It is the square root of variance and shows the spread of data around the mean.\n",
        "\n",
        "16.**Define and explain the term range in statistics.**\n",
        "\n",
        "Ans: Range is the difference between the highest and lowest values in a dataset.\n",
        "\n",
        "17.**What is the difference between variance and standard deviation?**\n",
        "\n",
        "Ans: Standard deviation is the square root of variance.\n",
        "\n",
        "18.**What is skewness in a dataset?**\n",
        "\n",
        "Ans: Skewness measures the asymmetry of the data distribution.\n",
        "\n",
        "19.**What does it mean if a dataset is positively or negatively skewed?**\n",
        "\n",
        "Ans: Positively skewed: tail on the right; Negatively skewed: tail on the left.\n",
        "\n",
        "20.**Define and explain kurtosis.**\n",
        "\n",
        "Ans: Kurtosis measures the 'tailedness' of a distribution.\n",
        "\n",
        "21.**What is the purpose of covariance?**\n",
        "\n",
        "Ans: Covariance indicates the direction of the linear relationship between two variables.\n",
        "\n",
        "22.**What does correlation measure in statistics?**\n",
        "\n",
        "Ans: Correlation measures the strength and direction of a linear relationship between two variables.\n",
        "\n",
        "23.**What is the difference between covariance and correlation?**\n",
        "\n",
        "Ans: Correlation is a standardized version of covariance, ranging from -1 to 1.\n",
        "\n",
        "24.**What are some real-world applications of statistics?**\n",
        "\n",
        "Answer: Healthcare, business, economics, social sciences, engineering, and government policy decisions."
      ],
      "metadata": {
        "id": "pWj9HLakCwiY"
      }
    },
    {
      "cell_type": "markdown",
      "source": [
        "#**Statistics Basics Assignment (Practical Questions & Answers ):**"
      ],
      "metadata": {
        "id": "ExSU_TVLFbRB"
      }
    },
    {
      "cell_type": "markdown",
      "source": [
        "1. How do you calculate the mean, median, and mode of a dataset?\n"
      ],
      "metadata": {
        "id": "ZQikWL-GFrnC"
      }
    },
    {
      "cell_type": "code",
      "source": [
        "import statistics\n",
        "\n",
        "# Sample data\n",
        "data = [2, 4, 6, 8, 10, 4, 4]\n",
        "\n",
        "# Mean\n",
        "mean = statistics.mean(data)\n",
        "\n",
        "# Median\n",
        "median = statistics.median(data)\n",
        "\n",
        "# Mode\n",
        "mode = statistics.mode(data)\n",
        "\n",
        "print(\"Mean:\", mean)\n",
        "print(\"Median:\", median)\n",
        "print(\"Mode:\", mode)"
      ],
      "metadata": {
        "colab": {
          "base_uri": "https://localhost:8080/"
        },
        "id": "4unfK44QHKsE",
        "outputId": "d6c9f30d-e6e8-4d3b-87a3-b61fdc249d8d"
      },
      "execution_count": 7,
      "outputs": [
        {
          "output_type": "stream",
          "name": "stdout",
          "text": [
            "Mean: 5.428571428571429\n",
            "Median: 4\n",
            "Mode: 4\n"
          ]
        }
      ]
    },
    {
      "cell_type": "markdown",
      "source": [
        "2. Write a Python program to compute the variance and standard deviation of a dataset.\n"
      ],
      "metadata": {
        "id": "uIdBi1-AHaU4"
      }
    },
    {
      "cell_type": "code",
      "source": [
        "import numpy as np\n",
        "data = [10, 20, 30, 40, 50]\n",
        "variance = np.var(data)\n",
        "std_dev = np.std(data)\n",
        "print(\"Variance:\", variance)\n",
        "print(\"Standard Deviation:\", std_dev)\n"
      ],
      "metadata": {
        "colab": {
          "base_uri": "https://localhost:8080/"
        },
        "id": "L6-HplugHiR_",
        "outputId": "81747bad-eb25-4bdb-fb5e-7a7295baf957"
      },
      "execution_count": 10,
      "outputs": [
        {
          "output_type": "stream",
          "name": "stdout",
          "text": [
            "Variance: 200.0\n",
            "Standard Deviation: 14.142135623730951\n"
          ]
        }
      ]
    },
    {
      "cell_type": "markdown",
      "source": [
        "3. Create a dataset and classify it into nominal, ordinal, interval, and ratio types."
      ],
      "metadata": {
        "id": "1MGG7dhOHzCI"
      }
    },
    {
      "cell_type": "markdown",
      "source": [
        "4. Implement sampling techniques like random sampling and stratified sampling.\n"
      ],
      "metadata": {
        "id": "LS5V9claJsFR"
      }
    },
    {
      "cell_type": "code",
      "source": [
        "Nominal = ['Red', 'Blue', 'Green']\n",
        "Ordinal = ['Low', 'Medium', 'High']\n",
        "Interval = [10, 20, 30] #Assuming Celsius, removing the degree symbol for proper list definition\n",
        "Ratio = [10, 20, 30] #Assuming kg, no change needed here as it's a numerical list."
      ],
      "metadata": {
        "id": "-rDNViyMSU5L"
      },
      "execution_count": 61,
      "outputs": []
    },
    {
      "cell_type": "code",
      "source": [
        "import pandas as pd\n",
        "from sklearn.model_selection import train_test_split\n",
        "data = pd.DataFrame({'Group': ['A']*5 + ['B']*5, 'Value': range(10)})\n",
        "random_sample = data.sample(n=4)\n",
        "stratified_sample, _ = train_test_split(data, test_size=0.6, stratify=data['Group'])\n",
        "print(\"Random Sample:\\n\", random_sample)\n",
        "print(\"Stratified Sample:\\n\", stratified_sample)\n",
        "print(\"Stratified Sample:\\n\", stratified_sample)"
      ],
      "metadata": {
        "colab": {
          "base_uri": "https://localhost:8080/"
        },
        "id": "78P3ykHbJuHs",
        "outputId": "7f3422b4-0df3-4ab3-b179-895356ce2215"
      },
      "execution_count": 29,
      "outputs": [
        {
          "output_type": "stream",
          "name": "stdout",
          "text": [
            "Random Sample:\n",
            "   Group  Value\n",
            "8     B      8\n",
            "5     B      5\n",
            "2     A      2\n",
            "9     B      9\n",
            "Stratified Sample:\n",
            "   Group  Value\n",
            "6     B      6\n",
            "2     A      2\n",
            "5     B      5\n",
            "4     A      4\n",
            "Stratified Sample:\n",
            "   Group  Value\n",
            "6     B      6\n",
            "2     A      2\n",
            "5     B      5\n",
            "4     A      4\n"
          ]
        }
      ]
    },
    {
      "cell_type": "markdown",
      "source": [
        "5. Write a Python function to calculate the range of a dataset."
      ],
      "metadata": {
        "id": "JIwUWNfPK34g"
      }
    },
    {
      "cell_type": "code",
      "source": [
        "def calculate_range(data):\n",
        " return max(data) - min(data)\n",
        "print(\"Range:\", calculate_range([4, 8, 15, 16, 23, 42]))"
      ],
      "metadata": {
        "colab": {
          "base_uri": "https://localhost:8080/"
        },
        "id": "ySmBZxNAK6Vu",
        "outputId": "15af2419-f795-4e2d-b711-7d00f53ca16f"
      },
      "execution_count": 30,
      "outputs": [
        {
          "output_type": "stream",
          "name": "stdout",
          "text": [
            "Range: 38\n"
          ]
        }
      ]
    },
    {
      "cell_type": "markdown",
      "source": [
        "6. Create a dataset and plot its histogram to visualize skewness."
      ],
      "metadata": {
        "id": "dv3LL787LLNa"
      }
    },
    {
      "cell_type": "code",
      "source": [
        "import matplotlib.pyplot as plt\n",
        "import numpy as np\n",
        "data = np.random.exponential(scale=2, size=1000)\n",
        "plt.hist(data, bins=30)\n",
        "plt.title(\"Histogram to Visualize Skewness\")\n",
        "plt.show()"
      ],
      "metadata": {
        "colab": {
          "base_uri": "https://localhost:8080/",
          "height": 452
        },
        "id": "50bnGmp6LNkN",
        "outputId": "77741fb6-1482-4ca1-dd7c-2ef4b22afda2"
      },
      "execution_count": 31,
      "outputs": [
        {
          "output_type": "display_data",
          "data": {
            "text/plain": [
              "<Figure size 640x480 with 1 Axes>"
            ],
            "image/png": "[encoded data removed]"
          },
          "metadata": {}
        }
      ]
    },
    {
      "cell_type": "markdown",
      "source": [
        "7. Calculate skewness and kurtosis of a dataset using Python libraries."
      ],
      "metadata": {
        "id": "GIuN1XuaLY2q"
      }
    },
    {
      "cell_type": "code",
      "source": [
        "from scipy.stats import skew, kurtosis\n",
        "data = [1, 2, 2, 3, 3, 3, 4, 4, 5]\n",
        "print(\"Skewness:\", skew(data))\n",
        "print(\"Kurtosis:\", kurtosis(data))"
      ],
      "metadata": {
        "colab": {
          "base_uri": "https://localhost:8080/"
        },
        "id": "MNcKgUOiLe7E",
        "outputId": "805d7b41-89f3-46e0-c4a3-9066c418e6b4"
      },
      "execution_count": 32,
      "outputs": [
        {
          "output_type": "stream",
          "name": "stdout",
          "text": [
            "Skewness: 0.0\n",
            "Kurtosis: -0.75\n"
          ]
        }
      ]
    },
    {
      "cell_type": "markdown",
      "source": [
        "8. Generate a dataset and demonstrate positive and negative skewness.\n"
      ],
      "metadata": {
        "id": "_K7sdohcMAp1"
      }
    },
    {
      "cell_type": "code",
      "source": [
        "import seaborn as sns\n",
        "import matplotlib.pyplot as plt\n",
        "# Positive skew\n",
        "pos_skew = np.random.exponential(scale=2, size=1000)\n",
        "# Negative skew\n",
        "neg_skew = -np.random.exponential(scale=2, size=1000)\n",
        "sns.histplot(pos_skew, kde=True).set(title='Positive Skew')\n",
        "plt.show()\n",
        "sns.histplot(neg_skew, kde=True).set(title='Negative Skew')\n",
        "plt.show()"
      ],
      "metadata": {
        "colab": {
          "base_uri": "https://localhost:8080/",
          "height": 887
        },
        "id": "wUG_SRDaME6N",
        "outputId": "20089510-6d89-4d2f-99fa-27420f7e0f91"
      },
      "execution_count": 33,
      "outputs": [
        {
          "output_type": "display_data",
          "data": {
            "text/plain": [
              "<Figure size 640x480 with 1 Axes>"
            ],
            "image/png": "[encoded data removed]"
          },
          "metadata": {}
        },
        {
          "output_type": "display_data",
          "data": {
            "text/plain": [
              "<Figure size 640x480 with 1 Axes>"
            ],
            "image/png": "[encoded data removed]"
          },
          "metadata": {}
        }
      ]
    },
    {
      "cell_type": "markdown",
      "source": [
        "9. Write a Python script to calculate covariance between two datasets."
      ],
      "metadata": {
        "id": "eEfkPHtcMRva"
      }
    },
    {
      "cell_type": "code",
      "source": [
        "import numpy as np\n",
        "x = [1, 2, 3, 4, 5]\n",
        "y = [5, 4, 6, 5, 6]\n",
        "cov_matrix = np.cov(x, y)\n",
        "print(\"Covariance matrix:\", cov_matrix)"
      ],
      "metadata": {
        "colab": {
          "base_uri": "https://localhost:8080/"
        },
        "id": "wQOH8prNMZ47",
        "outputId": "c6998bc4-b150-4062-d394-ae11ad4a7ea1"
      },
      "execution_count": 37,
      "outputs": [
        {
          "output_type": "stream",
          "name": "stdout",
          "text": [
            "Covariance matrix: [[2.5  0.75]\n",
            " [0.75 0.7 ]]\n"
          ]
        }
      ]
    },
    {
      "cell_type": "markdown",
      "source": [
        "10. Write a Python script to calculate the correlation coefficient between two datasets."
      ],
      "metadata": {
        "id": "7rKLybrYM9nF"
      }
    },
    {
      "cell_type": "code",
      "source": [
        "import numpy as np\n",
        "x = [1, 2, 3, 4, 5]\n",
        "y = [5, 6, 7, 8, 7]\n",
        "correlation = np.corrcoef(x, y)\n",
        "print(\"Correlation Coefficient Matrix:\", correlation)"
      ],
      "metadata": {
        "colab": {
          "base_uri": "https://localhost:8080/"
        },
        "id": "0m5hY5u7NQGT",
        "outputId": "99d38abc-edb6-4972-b65e-1aef7ff9668f"
      },
      "execution_count": 39,
      "outputs": [
        {
          "output_type": "stream",
          "name": "stdout",
          "text": [
            "Correlation Coefficient Matrix: [[1.         0.83205029]\n",
            " [0.83205029 1.        ]]\n"
          ]
        }
      ]
    },
    {
      "cell_type": "markdown",
      "source": [
        "11. Create a scatter plot to visualize the relationship between two variables."
      ],
      "metadata": {
        "id": "XUGKydqqNffl"
      }
    },
    {
      "cell_type": "code",
      "source": [
        "import matplotlib.pyplot as plt\n",
        "x = [1, 2, 3, 4, 5]\n",
        "y = [2, 4, 5, 4, 5]\n",
        "plt.scatter(x, y)\n",
        "plt.title(\"Scatter Plot\")\n",
        "plt.xlabel(\"X\")\n",
        "plt.ylabel(\"Y\")\n",
        "plt.show()"
      ],
      "metadata": {
        "colab": {
          "base_uri": "https://localhost:8080/",
          "height": 472
        },
        "id": "YnHj0tzpNh5u",
        "outputId": "b1c94dad-842e-4399-d696-5e117a800f53"
      },
      "execution_count": 40,
      "outputs": [
        {
          "output_type": "display_data",
          "data": {
            "text/plain": [
              "<Figure size 640x480 with 1 Axes>"
            ],
            "image/png": "[encoded data removed]"
          },
          "metadata": {}
        }
      ]
    },
    {
      "cell_type": "markdown",
      "source": [
        "12. Implement and compare simple random sampling and systematic sampling.\n"
      ],
      "metadata": {
        "id": "0S75UKgmNmVn"
      }
    },
    {
      "cell_type": "code",
      "source": [
        "import numpy as np\n",
        "data = np.arange(100)\n",
        "random_sample = np.random.choice(data, 10, replace=False)\n",
        "systematic_sample = data[::10]\n",
        "print(\"Random Sample:\", random_sample)\n",
        "print(\"Systematic Sample:\", systematic_sample)"
      ],
      "metadata": {
        "colab": {
          "base_uri": "https://localhost:8080/"
        },
        "id": "jCZBHUI4NrIR",
        "outputId": "046e628c-b999-4629-e781-81b085dfee99"
      },
      "execution_count": 43,
      "outputs": [
        {
          "output_type": "stream",
          "name": "stdout",
          "text": [
            "Random Sample: [19 20  2 69 34 72 79 83 96 80]\n",
            "Systematic Sample: [ 0 10 20 30 40 50 60 70 80 90]\n"
          ]
        }
      ]
    },
    {
      "cell_type": "markdown",
      "source": [
        "13. Calculate the mean, median, and mode of grouped data."
      ],
      "metadata": {
        "id": "PJFugVhEN8Yw"
      }
    },
    {
      "cell_type": "code",
      "source": [
        "import pandas as pd\n",
        "data = pd.DataFrame({'Group': ['A', 'A', 'B', 'B'], 'Score': [10, 20, 30, 40]})\n",
        "print(data.groupby('Group').agg(['mean', 'median', 'min', 'max']))"
      ],
      "metadata": {
        "colab": {
          "base_uri": "https://localhost:8080/"
        },
        "id": "eLMlyx8_N9d2",
        "outputId": "7ae6c320-96e3-40a9-be42-13d14c0131e6"
      },
      "execution_count": 44,
      "outputs": [
        {
          "output_type": "stream",
          "name": "stdout",
          "text": [
            "      Score               \n",
            "       mean median min max\n",
            "Group                     \n",
            "A      15.0   15.0  10  20\n",
            "B      35.0   35.0  30  40\n"
          ]
        }
      ]
    },
    {
      "cell_type": "markdown",
      "source": [
        "14. Simulate data using Python and calculate its central tendency and dispersion.\n"
      ],
      "metadata": {
        "id": "POICjK8POTYY"
      }
    },
    {
      "cell_type": "code",
      "source": [
        "import numpy as np\n",
        "data = np.random.normal(loc=50, scale=10, size=1000)\n",
        "print(\"Mean:\", np.mean(data))\n",
        "print(\"Median:\", np.median(data))\n",
        "print(\"Standard Deviation:\", np.std(data))"
      ],
      "metadata": {
        "colab": {
          "base_uri": "https://localhost:8080/"
        },
        "id": "etIXX5Q2OYQe",
        "outputId": "534fcb6d-fc34-40b1-b567-fa805872db1c"
      },
      "execution_count": 46,
      "outputs": [
        {
          "output_type": "stream",
          "name": "stdout",
          "text": [
            "Mean: 50.42509864998544\n",
            "Median: 50.55752680048164\n",
            "Standard Deviation: 10.067673538082502\n"
          ]
        }
      ]
    },
    {
      "cell_type": "markdown",
      "source": [
        "15. Use NumPy or pandas to summarize a dataset's descriptive statistics."
      ],
      "metadata": {
        "id": "N6DURa-IOdgl"
      }
    },
    {
      "cell_type": "code",
      "source": [
        "import pandas as pd\n",
        "df = pd.DataFrame({'Age': [23, 45, 12, 67, 34, 89]})\n",
        "print(df.describe())"
      ],
      "metadata": {
        "colab": {
          "base_uri": "https://localhost:8080/"
        },
        "id": "FzmfBTcYOhrb",
        "outputId": "401a5b4b-1444-4763-e9d7-0e79cfecda42"
      },
      "execution_count": 47,
      "outputs": [
        {
          "output_type": "stream",
          "name": "stdout",
          "text": [
            "             Age\n",
            "count   6.000000\n",
            "mean   45.000000\n",
            "std    28.684491\n",
            "min    12.000000\n",
            "25%    25.750000\n",
            "50%    39.500000\n",
            "75%    61.500000\n",
            "max    89.000000\n"
          ]
        }
      ]
    },
    {
      "cell_type": "markdown",
      "source": [
        "16. Plot a boxplot to understand the spread and identify outliers."
      ],
      "metadata": {
        "id": "JtHqiKtYPFxU"
      }
    },
    {
      "cell_type": "code",
      "source": [
        "import seaborn as sns\n",
        "import matplotlib.pyplot as plt\n",
        "data = [10, 20, 30, 25, 15, 50, 90, 100]\n",
        "sns.boxplot(data)\n",
        "plt.title(\"Boxplot\")\n",
        "plt.show()"
      ],
      "metadata": {
        "colab": {
          "base_uri": "https://localhost:8080/",
          "height": 433
        },
        "id": "VlYpFoTTPI6M",
        "outputId": "26c605d5-654f-4303-919a-5e145de83588"
      },
      "execution_count": 48,
      "outputs": [
        {
          "output_type": "display_data",
          "data": {
            "text/plain": [
              "<Figure size 640x480 with 1 Axes>"
            ],
            "image/png": "[encoded data removed]"
          },
          "metadata": {}
        }
      ]
    },
    {
      "cell_type": "markdown",
      "source": [
        "17. Calculate the interquartile range (IQR) of a dataset."
      ],
      "metadata": {
        "id": "kgzmCErgPZ_q"
      }
    },
    {
      "cell_type": "code",
      "source": [
        "import numpy as np\n",
        "data = [7, 15, 36, 39, 40, 41, 42, 43, 47, 49]\n",
        "Q1 = np.percentile(data, 25)\n",
        "Q3 = np.percentile(data, 75)\n",
        "IQR = Q3 - Q1\n",
        "print(\"IQR:\", IQR)"
      ],
      "metadata": {
        "colab": {
          "base_uri": "https://localhost:8080/"
        },
        "id": "YV482ARyPcny",
        "outputId": "9e3da628-d87f-4d14-dae4-485284a8826a"
      },
      "execution_count": 49,
      "outputs": [
        {
          "output_type": "stream",
          "name": "stdout",
          "text": [
            "IQR: 6.0\n"
          ]
        }
      ]
    },
    {
      "cell_type": "markdown",
      "source": [
        "18. Implement Z-score normalization and explain its significance."
      ],
      "metadata": {
        "id": "fUa54jZdPlsW"
      }
    },
    {
      "cell_type": "code",
      "source": [
        "from scipy.stats import zscore\n",
        "import numpy as np\n",
        "data = [10, 20, 30, 40, 50]\n",
        "z_scores = zscore(data)\n",
        "print(\"Z-scores:\", z_scores)"
      ],
      "metadata": {
        "colab": {
          "base_uri": "https://localhost:8080/"
        },
        "id": "IRUVhqP1Ps3S",
        "outputId": "df040a2a-7625-4eb4-a0e2-cc997b6f1f24"
      },
      "execution_count": 51,
      "outputs": [
        {
          "output_type": "stream",
          "name": "stdout",
          "text": [
            "Z-scores: [-1.41421356 -0.70710678  0.          0.70710678  1.41421356]\n"
          ]
        }
      ]
    },
    {
      "cell_type": "markdown",
      "source": [
        "19. Compare two datasets using their standard deviations."
      ],
      "metadata": {
        "id": "_CrR6fJzP19d"
      }
    },
    {
      "cell_type": "code",
      "source": [
        "import numpy as np\n",
        "data1 = [10, 20, 30]\n",
        "data2 = [10, 100, 200]\n",
        "print(\"STD Data1:\", np.std(data1))\n",
        "print(\"STD Data2:\", np.std(data2))"
      ],
      "metadata": {
        "colab": {
          "base_uri": "https://localhost:8080/"
        },
        "id": "rTosOjejP7Pd",
        "outputId": "cdba0cf1-d6b8-4c21-91e1-fce9e23e8f5c"
      },
      "execution_count": 52,
      "outputs": [
        {
          "output_type": "stream",
          "name": "stdout",
          "text": [
            "STD Data1: 8.16496580927726\n",
            "STD Data2: 77.60297817881877\n"
          ]
        }
      ]
    },
    {
      "cell_type": "markdown",
      "source": [
        "20. Write a Python program to visualize covariance using a heatmap.\n"
      ],
      "metadata": {
        "id": "qW4iB91TQBk7"
      }
    },
    {
      "cell_type": "code",
      "source": [
        "import seaborn as sns\n",
        "import pandas as pd\n",
        "import numpy as np\n",
        "df = pd.DataFrame({'x': np.random.rand(10), 'y': np.random.rand(10)})\n",
        "cov_matrix = df.cov()\n",
        "sns.heatmap(cov_matrix, annot=True, cmap='coolwarm')\n",
        "plt.title(\"Covariance Heatmap\")\n",
        "plt.show()\n"
      ],
      "metadata": {
        "colab": {
          "base_uri": "https://localhost:8080/",
          "height": 452
        },
        "id": "uoRWifO3QD2_",
        "outputId": "e20da235-9150-405e-aa77-06caeae310f1"
      },
      "execution_count": 53,
      "outputs": [
        {
          "output_type": "display_data",
          "data": {
            "text/plain": [
              "<Figure size 640x480 with 2 Axes>"
            ],
            "image/png": "[encoded data removed]"
          },
          "metadata": {}
        }
      ]
    },
    {
      "cell_type": "markdown",
      "source": [
        "21. Use seaborn to create a correlation matrix for a dataset."
      ],
      "metadata": {
        "id": "AgjvkBZ8Qqns"
      }
    },
    {
      "cell_type": "code",
      "source": [
        "import seaborn as sns\n",
        "import pandas as pd\n",
        "df = pd.DataFrame({\n",
        " 'A': [1, 2, 3, 4],\n",
        " 'B': [4, 3, 2, 1],\n",
        " 'C': [2, 3, 4, 5]\n",
        "})\n",
        "sns.heatmap(df.corr(), annot=True, cmap='coolwarm')\n",
        "plt.title(\"Correlation Matrix\")\n",
        "plt.show()"
      ],
      "metadata": {
        "colab": {
          "base_uri": "https://localhost:8080/",
          "height": 452
        },
        "id": "wt94SuDjQtEE",
        "outputId": "25c3863d-76e2-4f25-e968-fca49968a6bc"
      },
      "execution_count": 54,
      "outputs": [
        {
          "output_type": "display_data",
          "data": {
            "text/plain": [
              "<Figure size 640x480 with 2 Axes>"
            ],
            "image/png": "[encoded data removed]"
          },
          "metadata": {}
        }
      ]
    },
    {
      "cell_type": "markdown",
      "source": [
        "22. Generate a dataset and implement both variance and standard deviation computations."
      ],
      "metadata": {
        "id": "yWNlN3GRQ4Tv"
      }
    },
    {
      "cell_type": "code",
      "source": [
        "import numpy as np\n",
        "data = np.random.randint(10, 100, size=50)\n",
        "print(\"Variance:\", np.var(data))\n",
        "print(\"Standard Deviation:\", np.std(data))"
      ],
      "metadata": {
        "colab": {
          "base_uri": "https://localhost:8080/"
        },
        "id": "AEiZLDX1Q65f",
        "outputId": "db19fc28-7bfa-47ea-b3a7-2ba03497c004"
      },
      "execution_count": 55,
      "outputs": [
        {
          "output_type": "stream",
          "name": "stdout",
          "text": [
            "Variance: 655.5264\n",
            "Standard Deviation: 25.603249793727358\n"
          ]
        }
      ]
    },
    {
      "cell_type": "markdown",
      "source": [
        "23. Visualize skewness and kurtosis using Python libraries like matplotlib or seaborn."
      ],
      "metadata": {
        "id": "11fls577Q_6s"
      }
    },
    {
      "cell_type": "code",
      "source": [
        "import seaborn as sns\n",
        "import matplotlib.pyplot as plt\n",
        "import numpy as np\n",
        "data = np.random.exponential(size=1000)\n",
        "sns.histplot(data, kde=True)\n",
        "plt.title(\"Skewness and Kurtosis Visualization\")\n",
        "plt.show()"
      ],
      "metadata": {
        "colab": {
          "base_uri": "https://localhost:8080/",
          "height": 452
        },
        "id": "s2zPlSrMRCWM",
        "outputId": "f6d108ba-d074-47f6-dc8e-c03c7c916f3b"
      },
      "execution_count": 56,
      "outputs": [
        {
          "output_type": "display_data",
          "data": {
            "text/plain": [
              "<Figure size 640x480 with 1 Axes>"
            ],
            "image/png": "[encoded data removed]"
          },
          "metadata": {}
        }
      ]
    },
    {
      "cell_type": "markdown",
      "source": [
        "24. Implement the Pearson and Spearman correlation coefficients for a dataset."
      ],
      "metadata": {
        "id": "rlCoBnbwRLhS"
      }
    },
    {
      "cell_type": "code",
      "source": [
        "from scipy.stats import pearsonr, spearmanr\n",
        "x = [10, 20, 30, 40]\n",
        "y = [20, 30, 40, 50]\n",
        "pearson_corr, _ = pearsonr(x, y)\n",
        "spearman_corr, _ = spearmanr(x, y)\n",
        "print(\"Pearson Correlation:\", pearson_corr)\n",
        "print(\"Spearman Correlation:\", spearman_corr)"
      ],
      "metadata": {
        "colab": {
          "base_uri": "https://localhost:8080/"
        },
        "id": "bDHn5FsoRPqx",
        "outputId": "e5353b39-eecb-4ace-bc1f-2df5fabf2c49"
      },
      "execution_count": 57,
      "outputs": [
        {
          "output_type": "stream",
          "name": "stdout",
          "text": [
            "Pearson Correlation: 1.0\n",
            "Spearman Correlation: 1.0\n"
          ]
        }
      ]
    }
  ]
}